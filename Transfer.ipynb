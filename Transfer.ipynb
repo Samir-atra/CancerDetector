{
 "cells": [
  {
   "cell_type": "code",
   "execution_count": null,
   "metadata": {},
   "outputs": [],
   "source": [
    "# Imports\n",
    "\n",
    "import tensorflow as tf\n",
    "import tensorflow_datasets as tfds\n",
    "#import tensorflowjs\n",
    "import numpy as np\n",
    "import os\n",
    "import PIL.Image\n",
    "from PIL import ImageOps\n",
    "#from PIL import Image\n",
    "import PIL\n",
    "import pathlib\n",
    "import matplotlib.pyplot as plt\n",
    "import datetime\n",
    "import tensorboard\n",
    "import IPython\n",
    "import sklearn\n",
    "import cv2\n",
    "import subprocess\n",
    "import sys"
   ]
  },
  {
   "cell_type": "code",
   "execution_count": null,
   "metadata": {},
   "outputs": [],
   "source": [
    "# Dataset loading\n",
    "\n",
    "data_path = pathlib.Path('/home/samer/Documents/Programming/AI50xIraq/CancerDetectionX3/archiveX3/Training/')\n",
    "#data_dir = pathlib.Path(data_path)\n",
    "data_path_test = pathlib.Path('/home/samer/Documents/Programming/AI50xIraq/CancerDetectionX3/archiveX3/Testing/')\n",
    "\n",
    "dataset_path = tf.keras.utils.image_dataset_from_directory(\n",
    "    data_path,\n",
    "    labels= 'inferred',\n",
    "    validation_split=0.2,\n",
    "    subset='training',\n",
    "    seed= 1,\n",
    "    batch_size=5,\n",
    "    image_size=(180, 180),\n",
    "    color_mode=\"rgb\",\n",
    "    shuffle=True)\n",
    "\n",
    "dataset_path_val = tf.keras.utils.image_dataset_from_directory(\n",
    "    data_path,\n",
    "    labels= 'inferred',\n",
    "    validation_split=0.2,\n",
    "    subset='validation',\n",
    "    seed= 2,\n",
    "    batch_size=5,\n",
    "    image_size=(180, 180),\n",
    "    color_mode=\"rgb\",\n",
    "    shuffle=True)\n",
    "\n",
    "dataset_path_test = tf.keras.utils.image_dataset_from_directory(\n",
    "    data_path_test,\n",
    "    labels= 'inferred',\n",
    "    seed= 3,\n",
    "    batch_size=5,\n",
    "    image_size=(180, 180),\n",
    "    color_mode=\"rgb\",\n",
    "    shuffle=True)\n"
   ]
  },
  {
   "cell_type": "code",
   "execution_count": null,
   "metadata": {},
   "outputs": [],
   "source": [
    "# downloading the weights\n",
    "\n",
    "base_model = tf.keras.applications.inception_v3.InceptionV3(\n",
    "    input_shape = (180, 180, 3),\n",
    "    include_top = False, \n",
    "    weights = \"imagenet\"                   # does not work for medical imaging\n",
    ")"
   ]
  },
  {
   "cell_type": "code",
   "execution_count": null,
   "metadata": {},
   "outputs": [],
   "source": [
    "#saving the model\n",
    "\n",
    "saving_path = pathlib.Path('/home/samer/Documents/Programming/AI50xIraq/CancerDetectionX3/SavedBaseModel.h5')\n",
    "\n",
    "base_model.save(saving_path)"
   ]
  },
  {
   "cell_type": "code",
   "execution_count": null,
   "metadata": {},
   "outputs": [],
   "source": [
    "\n",
    "\n",
    "model_path = pathlib.Path('/home/samer/Documents/Programming/AI50xIraq/CancerDetectionX3/SavedBaseModel.h5')\n",
    "\n",
    "base_model = tf.keras.models.load_model(model_path)\n",
    "\n",
    "base_model.trainable = False\n",
    "\n",
    "inputs = tf.keras.Input(shape=(180, 180, 3))\n",
    "x = base_model(inputs, training=False)\n",
    "x = tf.keras.layers.GlobalAveragePooling2D()(x)\n",
    "outputs = tf.keras.layers.Dense(4)(x)\n",
    "model = tf.keras.Model(inputs, outputs)\n",
    "\n",
    "\n",
    "model.compile(\n",
    "    optimizer='adam',\n",
    "    loss=tf.losses.SparseCategoricalCrossentropy(from_logits= True),\n",
    "    metrics=['accuracy','mse'])\n",
    "\n",
    "model.fit(\n",
    "    dataset_path,\n",
    "    epochs=15,                                    #get it to 15 from 30\n",
    "    validation_data = dataset_path_val\n",
    "    #callbacks =[tensorboard_callback,\n",
    "                 #cp_callback\n",
    "                 )"
   ]
  }
 ],
 "metadata": {
  "kernelspec": {
   "display_name": "Python 3.9.7 ('base')",
   "language": "python",
   "name": "python3"
  },
  "language_info": {
   "codemirror_mode": {
    "name": "ipython",
    "version": 3
   },
   "file_extension": ".py",
   "mimetype": "text/x-python",
   "name": "python",
   "nbconvert_exporter": "python",
   "pygments_lexer": "ipython3",
   "version": "3.9.7"
  },
  "orig_nbformat": 4,
  "vscode": {
   "interpreter": {
    "hash": "d4de0671d8054c88a8842951ed8f6115b974e2e5b39cbc2553be5a6678282e63"
   }
  }
 },
 "nbformat": 4,
 "nbformat_minor": 2
}
