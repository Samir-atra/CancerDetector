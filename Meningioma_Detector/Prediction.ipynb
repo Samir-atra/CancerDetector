{
 "cells": [
  {
   "cell_type": "code",
   "execution_count": null,
   "metadata": {},
   "outputs": [],
   "source": [
    "# 1. Imports\n",
    "# ----------\n",
    "# All necessary libraries and modules are imported here.\n",
    "\n",
    "import tensorflow as tf\n",
    "import tensorflow_datasets as tfds\n",
    "import numpy as np\n",
    "import os\n",
    "import PIL.Image\n",
    "from PIL import ImageOps\n",
    "import PIL\n",
    "import pathlib\n",
    "import matplotlib.pyplot as plt\n",
    "import datetime\n",
    "import tensorboard\n",
    "import IPython\n",
    "import sklearn\n",
    "import cv2\n",
    "import subprocess\n",
    "import sys"
   ]
  },
  {
   "cell_type": "code",
   "execution_count": null,
   "metadata": {},
   "outputs": [],
   "source": [
    "# 2. Load Data and Model for Prediction\n",
    "# -------------------------------------\n",
    "# This cell loads a saved model and a directory of images to make predictions.\n",
    "# Note: The paths are hardcoded and need to be changed to run this notebook.\n",
    "\n",
    "# Define the path to the sample images for prediction.\n",
    "# IMPORTANT: This path is specific to the original author's machine.\n",
    "data_path = pathlib.Path('/home/samer/Documents/Programming/AI50xIraq/Cancerdetection/sample/')\n",
    "\n",
    "# Load the dataset to be predicted.\n",
    "dataset_path = tf.keras.utils.image_dataset_from_directory(\n",
    "    data_path,\n",
    "    labels='inferred',\n",
    "    seed=1,\n",
    "    batch_size=1, # Process one image at a time.\n",
    "    image_size=(180, 180),\n",
    "    color_mode=\"grayscale\",\n",
    "    shuffle=False) # Keep the order of the images.\n",
    "\n",
    "# Define the path to the saved model.\n",
    "# IMPORTANT: This path is specific to the original author's machine.\n",
    "loading_path = pathlib.Path('/home/samer/Documents/Programming/AI50xIraq/Cancerdetection/SavedModel/')\n",
    "\n",
    "# Load the pre-trained model.\n",
    "loaded_model = tf.keras.models.load_model(loading_path, compile=True)\n",
    "\n",
    "# Re-compile the model. This is good practice to ensure the model is ready.\n",
    "loaded_model.compile(\n",
    "    optimizer='adam',\n",
    "    loss=tf.losses.SparseCategoricalCrossentropy(from_logits=True),\n",
    "    metrics=['accuracy', 'mse'])\n",
    "\n",
    "# Create a list of the images to be predicted.\n",
    "sample_list = []\n",
    "for sample, label in dataset_path:\n",
    "    sample_list.append(sample)\n",
    "\n",
    "sample_list = np.array(sample_list)\n",
    "\n",
    "# Loop through each sample, make a prediction, and print the result.\n",
    "print(\"Making predictions...\")\n",
    "for sample in sample_list:\n",
    "    predictions = loaded_model.predict(sample)\n",
    "    pred = np.argmax(predictions, axis=1)\n",
    "    \n",
    "    # Assuming class '1' is 'no_tumor' and '0' is 'meningioma_tumor'.\n",
    "    # This depends on the order of the classes during training.\n",
    "    if pred[0] == 1:\n",
    "        print(\"Prediction: no_tumor\")\n",
    "    else:\n",
    "        print(\"Prediction: meningioma_tumor\")\n",
    "\n",
    "# Visualize the images that were predicted.\n",
    "print(\"\\nVisualizing the predicted images...\")\n",
    "for sample, labels in dataset_path:\n",
    "    plt.imshow(sample[0])\n",
    "    plt.show()\n"
   ]
  }
 ],
 "metadata": {
  "kernelspec": {
   "display_name": "Python 3.10.4 64-bit",
   "language": "python",
   "name": "python3"
  },
  "language_info": {
   "codemirror_mode": {
    "name": "ipython",
    "version": 3
   },
   "file_extension": ".py",
   "mimetype": "text/x-python",
   "name": "python",
   "nbconvert_exporter": "python",
   "pygments_lexer": "ipython3",
   "version": "3.10.4"
  },
  "orig_nbformat": 4,
  "vscode": {
   "interpreter": {
    "hash": "949777d72b0d2535278d3dc13498b2535136f6dfe0678499012e853ee9abcab1"
   }
  }
 },
 "nbformat": 4,
 "nbformat_minor": 2
}
