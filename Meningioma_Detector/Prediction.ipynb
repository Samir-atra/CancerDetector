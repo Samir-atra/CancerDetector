{
 "cells": [
  {
   "cell_type": "code",
   "execution_count": null,
   "metadata": {},
   "outputs": [],
   "source": [
    "# the final commit for the course project version\n",
    "# Imports\n",
    "\n",
    "import tensorflow as tf\n",
    "import tensorflow_datasets as tfds\n",
    "import numpy as np\n",
    "import os\n",
    "import PIL.Image\n",
    "from PIL import ImageOps\n",
    "import PIL\n",
    "import pathlib\n",
    "import matplotlib.pyplot as plt\n",
    "import datetime\n",
    "import tensorboard\n",
    "import IPython\n",
    "import sklearn\n",
    "import cv2\n",
    "import subprocess\n",
    "import sys"
   ]
  },
  {
   "cell_type": "code",
   "execution_count": null,
   "metadata": {},
   "outputs": [],
   "source": [
    "data_path = pathlib.Path('/home/samer/Documents/Programming/AI50xIraq/Cancerdetection/sample/')\n",
    "\n",
    "dataset_path = tf.keras.utils.image_dataset_from_directory(\n",
    "    data_path,\n",
    "    labels= 'inferred',\n",
    "    seed= 1,\n",
    "    batch_size=1,\n",
    "    image_size=(180, 180),\n",
    "    color_mode=\"grayscale\",\n",
    "    shuffle=False)\n",
    "\n",
    "loading_path = pathlib.Path('/home/samer/Documents/Programming/AI50xIraq/Cancerdetection/SavedModel/')\n",
    "loaded_model = tf.keras.models.load_model(loading_path, compile=True)\n",
    "\n",
    "loaded_model.compile(\n",
    "    optimizer='adam',\n",
    "    loss=tf.losses.SparseCategoricalCrossentropy(from_logits= True),\n",
    "    metrics=['accuracy','mse'])\n",
    "\n",
    "sample_list = []\n",
    "for sample,label in dataset_path:\n",
    "    sample_list.append(sample)\n",
    "    continue\n",
    "\n",
    "sample_list = np.array(sample_list)\n",
    "for sample in sample_list:\n",
    "    predictions = loaded_model.predict(sample)\n",
    "    pred = np.argmax(predictions, axis=1)\n",
    "    if pred[0] == 1:\n",
    "        print(\"no_tumor\")\n",
    "    else:\n",
    "        print(\"meningioma_tumor\")\n",
    "\n",
    "for sample, labels  in dataset_path:\n",
    "    plt.imshow(sample[0])\n",
    "    plt.show()\n"
   ]
  }
 ],
 "metadata": {
  "kernelspec": {
   "display_name": "Python 3.10.4 64-bit",
   "language": "python",
   "name": "python3"
  },
  "language_info": {
   "codemirror_mode": {
    "name": "ipython",
    "version": 3
   },
   "file_extension": ".py",
   "mimetype": "text/x-python",
   "name": "python",
   "nbconvert_exporter": "python",
   "pygments_lexer": "ipython3",
   "version": "3.10.4"
  },
  "orig_nbformat": 4,
  "vscode": {
   "interpreter": {
    "hash": "949777d72b0d2535278d3dc13498b2535136f6dfe0678499012e853ee9abcab1"
   }
  }
 },
 "nbformat": 4,
 "nbformat_minor": 2
}
