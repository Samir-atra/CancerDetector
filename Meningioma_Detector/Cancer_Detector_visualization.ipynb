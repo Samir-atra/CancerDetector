{
 "cells": [
  {
   "cell_type": "code",
   "execution_count": 9,
   "metadata": {},
   "outputs": [
    {
     "name": "stdout",
     "output_type": "stream",
     "text": [
      "/bin/bash: /home/samer/anaconda3/envs/AI/lib/libtinfo.so.6: no version information available (required by /bin/bash)\n",
      "/bin/bash: /home/samer/anaconda3/envs/AI/lib/libtinfo.so.6: no version information available (required by /bin/bash)\n"
     ]
    },
    {
     "data": {
      "text/plain": [
       "True"
      ]
     },
     "execution_count": 9,
     "metadata": {},
     "output_type": "execute_result"
    }
   ],
   "source": [
    "# Imports\n",
    "\n",
    "!pip install keras_tuner -q\n",
    "!pip install wandb -qU\n",
    "import tensorflow as tf\n",
    "import keras_tuner\n",
    "import numpy as np\n",
    "import os\n",
    "import pathlib\n",
    "import matplotlib.pyplot as plt\n",
    "import datetime\n",
    "import tensorboard\n",
    "import IPython\n",
    "import sklearn\n",
    "import cv2\n",
    "import sys\n",
    "import time\n",
    "import wandb\n",
    "wandb.login()"
   ]
  },
  {
   "cell_type": "code",
   "execution_count": 2,
   "metadata": {},
   "outputs": [],
   "source": [
    "# Mounting google drive for training in google co lab\n",
    "\n",
    "# from google.colab import drive             \n",
    "# drive.mount('/content/drive')"
   ]
  },
  {
   "cell_type": "code",
   "execution_count": 10,
   "metadata": {},
   "outputs": [
    {
     "data": {
      "text/html": [
       "Tracking run with wandb version 0.15.8"
      ],
      "text/plain": [
       "<IPython.core.display.HTML object>"
      ]
     },
     "metadata": {},
     "output_type": "display_data"
    },
    {
     "data": {
      "text/html": [
       "Run data is saved locally in <code>/home/samer/Desktop/Beedoo/CancerDetector/Cancer_Detector/wandb/run-20230811_221915-he42fchx</code>"
      ],
      "text/plain": [
       "<IPython.core.display.HTML object>"
      ]
     },
     "metadata": {},
     "output_type": "display_data"
    },
    {
     "data": {
      "text/html": [
       "Syncing run <strong><a href='https://wandb.ai/samiratra95/cancer_detector/runs/he42fchx' target=\"_blank\">wobbly-terrain-1</a></strong> to <a href='https://wandb.ai/samiratra95/cancer_detector' target=\"_blank\">Weights & Biases</a> (<a href='https://wandb.me/run' target=\"_blank\">docs</a>)<br/>"
      ],
      "text/plain": [
       "<IPython.core.display.HTML object>"
      ]
     },
     "metadata": {},
     "output_type": "display_data"
    },
    {
     "data": {
      "text/html": [
       " View project at <a href='https://wandb.ai/samiratra95/cancer_detector' target=\"_blank\">https://wandb.ai/samiratra95/cancer_detector</a>"
      ],
      "text/plain": [
       "<IPython.core.display.HTML object>"
      ]
     },
     "metadata": {},
     "output_type": "display_data"
    },
    {
     "data": {
      "text/html": [
       " View run at <a href='https://wandb.ai/samiratra95/cancer_detector/runs/he42fchx' target=\"_blank\">https://wandb.ai/samiratra95/cancer_detector/runs/he42fchx</a>"
      ],
      "text/plain": [
       "<IPython.core.display.HTML object>"
      ]
     },
     "metadata": {},
     "output_type": "display_data"
    },
    {
     "data": {
      "text/html": [
       "Finishing last run (ID:he42fchx) before initializing another..."
      ],
      "text/plain": [
       "<IPython.core.display.HTML object>"
      ]
     },
     "metadata": {},
     "output_type": "display_data"
    },
    {
     "data": {
      "text/html": [
       "Waiting for W&B process to finish... <strong style=\"color:green\">(success).</strong>"
      ],
      "text/plain": [
       "<IPython.core.display.HTML object>"
      ]
     },
     "metadata": {},
     "output_type": "display_data"
    },
    {
     "name": "stderr",
     "output_type": "stream",
     "text": [
      "wandb: WARNING Source type is set to 'repo' but some required information is missing from the environment. A job will not be created from this run. See https://docs.wandb.ai/guides/launch/create-job\n"
     ]
    },
    {
     "data": {
      "text/html": [
       " View run <strong style=\"color:#cdcd00\">wobbly-terrain-1</strong> at: <a href='https://wandb.ai/samiratra95/cancer_detector/runs/he42fchx' target=\"_blank\">https://wandb.ai/samiratra95/cancer_detector/runs/he42fchx</a><br/>Synced 5 W&B file(s), 0 media file(s), 0 artifact file(s) and 0 other file(s)"
      ],
      "text/plain": [
       "<IPython.core.display.HTML object>"
      ]
     },
     "metadata": {},
     "output_type": "display_data"
    },
    {
     "data": {
      "text/html": [
       "Find logs at: <code>./wandb/run-20230811_221915-he42fchx/logs</code>"
      ],
      "text/plain": [
       "<IPython.core.display.HTML object>"
      ]
     },
     "metadata": {},
     "output_type": "display_data"
    },
    {
     "data": {
      "text/html": [
       "Successfully finished last run (ID:he42fchx). Initializing new run:<br/>"
      ],
      "text/plain": [
       "<IPython.core.display.HTML object>"
      ]
     },
     "metadata": {},
     "output_type": "display_data"
    },
    {
     "data": {
      "text/html": [
       "Tracking run with wandb version 0.15.8"
      ],
      "text/plain": [
       "<IPython.core.display.HTML object>"
      ]
     },
     "metadata": {},
     "output_type": "display_data"
    },
    {
     "data": {
      "text/html": [
       "Run data is saved locally in <code>/home/samer/Desktop/Beedoo/CancerDetector/Cancer_Detector/wandb/run-20230811_221917-d4oswfrf</code>"
      ],
      "text/plain": [
       "<IPython.core.display.HTML object>"
      ]
     },
     "metadata": {},
     "output_type": "display_data"
    },
    {
     "data": {
      "text/html": [
       "Syncing run <strong><a href='https://wandb.ai/samiratra95/cancer_detector/runs/d4oswfrf' target=\"_blank\">fast-firefly-2</a></strong> to <a href='https://wandb.ai/samiratra95/cancer_detector' target=\"_blank\">Weights & Biases</a> (<a href='https://wandb.me/run' target=\"_blank\">docs</a>)<br/>"
      ],
      "text/plain": [
       "<IPython.core.display.HTML object>"
      ]
     },
     "metadata": {},
     "output_type": "display_data"
    },
    {
     "data": {
      "text/html": [
       " View project at <a href='https://wandb.ai/samiratra95/cancer_detector' target=\"_blank\">https://wandb.ai/samiratra95/cancer_detector</a>"
      ],
      "text/plain": [
       "<IPython.core.display.HTML object>"
      ]
     },
     "metadata": {},
     "output_type": "display_data"
    },
    {
     "data": {
      "text/html": [
       " View run at <a href='https://wandb.ai/samiratra95/cancer_detector/runs/d4oswfrf' target=\"_blank\">https://wandb.ai/samiratra95/cancer_detector/runs/d4oswfrf</a>"
      ],
      "text/plain": [
       "<IPython.core.display.HTML object>"
      ]
     },
     "metadata": {},
     "output_type": "display_data"
    },
    {
     "data": {
      "text/html": [
       "Finishing last run (ID:d4oswfrf) before initializing another..."
      ],
      "text/plain": [
       "<IPython.core.display.HTML object>"
      ]
     },
     "metadata": {},
     "output_type": "display_data"
    },
    {
     "data": {
      "text/html": [
       "Waiting for W&B process to finish... <strong style=\"color:green\">(success).</strong>"
      ],
      "text/plain": [
       "<IPython.core.display.HTML object>"
      ]
     },
     "metadata": {},
     "output_type": "display_data"
    },
    {
     "name": "stderr",
     "output_type": "stream",
     "text": [
      "wandb: WARNING Source type is set to 'repo' but some required information is missing from the environment. A job will not be created from this run. See https://docs.wandb.ai/guides/launch/create-job\n"
     ]
    },
    {
     "data": {
      "text/html": [
       " View run <strong style=\"color:#cdcd00\">fast-firefly-2</strong> at: <a href='https://wandb.ai/samiratra95/cancer_detector/runs/d4oswfrf' target=\"_blank\">https://wandb.ai/samiratra95/cancer_detector/runs/d4oswfrf</a><br/>Synced 5 W&B file(s), 0 media file(s), 0 artifact file(s) and 0 other file(s)"
      ],
      "text/plain": [
       "<IPython.core.display.HTML object>"
      ]
     },
     "metadata": {},
     "output_type": "display_data"
    },
    {
     "data": {
      "text/html": [
       "Find logs at: <code>./wandb/run-20230811_221917-d4oswfrf/logs</code>"
      ],
      "text/plain": [
       "<IPython.core.display.HTML object>"
      ]
     },
     "metadata": {},
     "output_type": "display_data"
    },
    {
     "data": {
      "text/html": [
       "Successfully finished last run (ID:d4oswfrf). Initializing new run:<br/>"
      ],
      "text/plain": [
       "<IPython.core.display.HTML object>"
      ]
     },
     "metadata": {},
     "output_type": "display_data"
    },
    {
     "data": {
      "text/html": [
       "Tracking run with wandb version 0.15.8"
      ],
      "text/plain": [
       "<IPython.core.display.HTML object>"
      ]
     },
     "metadata": {},
     "output_type": "display_data"
    },
    {
     "data": {
      "text/html": [
       "Run data is saved locally in <code>/home/samer/Desktop/Beedoo/CancerDetector/Cancer_Detector/wandb/run-20230811_221922-cdfj1400</code>"
      ],
      "text/plain": [
       "<IPython.core.display.HTML object>"
      ]
     },
     "metadata": {},
     "output_type": "display_data"
    },
    {
     "data": {
      "text/html": [
       "Syncing run <strong><a href='https://wandb.ai/samiratra95/cancer_detector/runs/cdfj1400' target=\"_blank\">cerulean-haze-3</a></strong> to <a href='https://wandb.ai/samiratra95/cancer_detector' target=\"_blank\">Weights & Biases</a> (<a href='https://wandb.me/run' target=\"_blank\">docs</a>)<br/>"
      ],
      "text/plain": [
       "<IPython.core.display.HTML object>"
      ]
     },
     "metadata": {},
     "output_type": "display_data"
    },
    {
     "data": {
      "text/html": [
       " View project at <a href='https://wandb.ai/samiratra95/cancer_detector' target=\"_blank\">https://wandb.ai/samiratra95/cancer_detector</a>"
      ],
      "text/plain": [
       "<IPython.core.display.HTML object>"
      ]
     },
     "metadata": {},
     "output_type": "display_data"
    },
    {
     "data": {
      "text/html": [
       " View run at <a href='https://wandb.ai/samiratra95/cancer_detector/runs/cdfj1400' target=\"_blank\">https://wandb.ai/samiratra95/cancer_detector/runs/cdfj1400</a>"
      ],
      "text/plain": [
       "<IPython.core.display.HTML object>"
      ]
     },
     "metadata": {},
     "output_type": "display_data"
    },
    {
     "data": {
      "text/html": [
       "Finishing last run (ID:cdfj1400) before initializing another..."
      ],
      "text/plain": [
       "<IPython.core.display.HTML object>"
      ]
     },
     "metadata": {},
     "output_type": "display_data"
    },
    {
     "data": {
      "text/html": [
       "Waiting for W&B process to finish... <strong style=\"color:green\">(success).</strong>"
      ],
      "text/plain": [
       "<IPython.core.display.HTML object>"
      ]
     },
     "metadata": {},
     "output_type": "display_data"
    },
    {
     "name": "stderr",
     "output_type": "stream",
     "text": [
      "wandb: WARNING Source type is set to 'repo' but some required information is missing from the environment. A job will not be created from this run. See https://docs.wandb.ai/guides/launch/create-job\n"
     ]
    },
    {
     "data": {
      "text/html": [
       " View run <strong style=\"color:#cdcd00\">cerulean-haze-3</strong> at: <a href='https://wandb.ai/samiratra95/cancer_detector/runs/cdfj1400' target=\"_blank\">https://wandb.ai/samiratra95/cancer_detector/runs/cdfj1400</a><br/>Synced 5 W&B file(s), 0 media file(s), 0 artifact file(s) and 0 other file(s)"
      ],
      "text/plain": [
       "<IPython.core.display.HTML object>"
      ]
     },
     "metadata": {},
     "output_type": "display_data"
    },
    {
     "data": {
      "text/html": [
       "Find logs at: <code>./wandb/run-20230811_221922-cdfj1400/logs</code>"
      ],
      "text/plain": [
       "<IPython.core.display.HTML object>"
      ]
     },
     "metadata": {},
     "output_type": "display_data"
    },
    {
     "data": {
      "text/html": [
       "Successfully finished last run (ID:cdfj1400). Initializing new run:<br/>"
      ],
      "text/plain": [
       "<IPython.core.display.HTML object>"
      ]
     },
     "metadata": {},
     "output_type": "display_data"
    },
    {
     "data": {
      "text/html": [
       "Tracking run with wandb version 0.15.8"
      ],
      "text/plain": [
       "<IPython.core.display.HTML object>"
      ]
     },
     "metadata": {},
     "output_type": "display_data"
    },
    {
     "data": {
      "text/html": [
       "Run data is saved locally in <code>/home/samer/Desktop/Beedoo/CancerDetector/Cancer_Detector/wandb/run-20230811_221929-4abgcuex</code>"
      ],
      "text/plain": [
       "<IPython.core.display.HTML object>"
      ]
     },
     "metadata": {},
     "output_type": "display_data"
    },
    {
     "data": {
      "text/html": [
       "Syncing run <strong><a href='https://wandb.ai/samiratra95/cancer_detector/runs/4abgcuex' target=\"_blank\">radiant-silence-4</a></strong> to <a href='https://wandb.ai/samiratra95/cancer_detector' target=\"_blank\">Weights & Biases</a> (<a href='https://wandb.me/run' target=\"_blank\">docs</a>)<br/>"
      ],
      "text/plain": [
       "<IPython.core.display.HTML object>"
      ]
     },
     "metadata": {},
     "output_type": "display_data"
    },
    {
     "data": {
      "text/html": [
       " View project at <a href='https://wandb.ai/samiratra95/cancer_detector' target=\"_blank\">https://wandb.ai/samiratra95/cancer_detector</a>"
      ],
      "text/plain": [
       "<IPython.core.display.HTML object>"
      ]
     },
     "metadata": {},
     "output_type": "display_data"
    },
    {
     "data": {
      "text/html": [
       " View run at <a href='https://wandb.ai/samiratra95/cancer_detector/runs/4abgcuex' target=\"_blank\">https://wandb.ai/samiratra95/cancer_detector/runs/4abgcuex</a>"
      ],
      "text/plain": [
       "<IPython.core.display.HTML object>"
      ]
     },
     "metadata": {},
     "output_type": "display_data"
    },
    {
     "data": {
      "text/html": [
       "Finishing last run (ID:4abgcuex) before initializing another..."
      ],
      "text/plain": [
       "<IPython.core.display.HTML object>"
      ]
     },
     "metadata": {},
     "output_type": "display_data"
    },
    {
     "data": {
      "text/html": [
       "Waiting for W&B process to finish... <strong style=\"color:green\">(success).</strong>"
      ],
      "text/plain": [
       "<IPython.core.display.HTML object>"
      ]
     },
     "metadata": {},
     "output_type": "display_data"
    },
    {
     "name": "stderr",
     "output_type": "stream",
     "text": [
      "wandb: WARNING Source type is set to 'repo' but some required information is missing from the environment. A job will not be created from this run. See https://docs.wandb.ai/guides/launch/create-job\n"
     ]
    },
    {
     "data": {
      "text/html": [
       " View run <strong style=\"color:#cdcd00\">radiant-silence-4</strong> at: <a href='https://wandb.ai/samiratra95/cancer_detector/runs/4abgcuex' target=\"_blank\">https://wandb.ai/samiratra95/cancer_detector/runs/4abgcuex</a><br/>Synced 5 W&B file(s), 0 media file(s), 0 artifact file(s) and 0 other file(s)"
      ],
      "text/plain": [
       "<IPython.core.display.HTML object>"
      ]
     },
     "metadata": {},
     "output_type": "display_data"
    },
    {
     "data": {
      "text/html": [
       "Find logs at: <code>./wandb/run-20230811_221929-4abgcuex/logs</code>"
      ],
      "text/plain": [
       "<IPython.core.display.HTML object>"
      ]
     },
     "metadata": {},
     "output_type": "display_data"
    },
    {
     "data": {
      "text/html": [
       "Successfully finished last run (ID:4abgcuex). Initializing new run:<br/>"
      ],
      "text/plain": [
       "<IPython.core.display.HTML object>"
      ]
     },
     "metadata": {},
     "output_type": "display_data"
    },
    {
     "data": {
      "text/html": [
       "Tracking run with wandb version 0.15.8"
      ],
      "text/plain": [
       "<IPython.core.display.HTML object>"
      ]
     },
     "metadata": {},
     "output_type": "display_data"
    },
    {
     "data": {
      "text/html": [
       "Run data is saved locally in <code>/home/samer/Desktop/Beedoo/CancerDetector/Cancer_Detector/wandb/run-20230811_221934-83v4vkkj</code>"
      ],
      "text/plain": [
       "<IPython.core.display.HTML object>"
      ]
     },
     "metadata": {},
     "output_type": "display_data"
    },
    {
     "data": {
      "text/html": [
       "Syncing run <strong><a href='https://wandb.ai/samiratra95/cancer_detector/runs/83v4vkkj' target=\"_blank\">pretty-totem-5</a></strong> to <a href='https://wandb.ai/samiratra95/cancer_detector' target=\"_blank\">Weights & Biases</a> (<a href='https://wandb.me/run' target=\"_blank\">docs</a>)<br/>"
      ],
      "text/plain": [
       "<IPython.core.display.HTML object>"
      ]
     },
     "metadata": {},
     "output_type": "display_data"
    },
    {
     "data": {
      "text/html": [
       " View project at <a href='https://wandb.ai/samiratra95/cancer_detector' target=\"_blank\">https://wandb.ai/samiratra95/cancer_detector</a>"
      ],
      "text/plain": [
       "<IPython.core.display.HTML object>"
      ]
     },
     "metadata": {},
     "output_type": "display_data"
    },
    {
     "data": {
      "text/html": [
       " View run at <a href='https://wandb.ai/samiratra95/cancer_detector/runs/83v4vkkj' target=\"_blank\">https://wandb.ai/samiratra95/cancer_detector/runs/83v4vkkj</a>"
      ],
      "text/plain": [
       "<IPython.core.display.HTML object>"
      ]
     },
     "metadata": {},
     "output_type": "display_data"
    }
   ],
   "source": [
    "# WandB\n",
    "\n",
    "for _ in range(5):\n",
    "    # 🐝 initialise a wandb run\n",
    "    wandb.init(\n",
    "        project=\"cancer_detector\",\n",
    "        config={\n",
    "            \"epochs\": 10,\n",
    "            \"batch_size\": 5,\n",
    "            \"lr\": 0.0005670323757088328\n",
    "            })\n",
    "    \n",
    "    # Copy your config \n",
    "    config = wandb.config"
   ]
  },
  {
   "cell_type": "code",
   "execution_count": 11,
   "metadata": {},
   "outputs": [
    {
     "name": "stdout",
     "output_type": "stream",
     "text": [
      "Found 4096 files belonging to 2 classes.\n",
      "Using 3277 files for training.\n",
      "Found 4096 files belonging to 2 classes.\n",
      "Using 819 files for validation.\n",
      "time elapsed =  0.17154812812805176\n"
     ]
    }
   ],
   "source": [
    "# Dataset loading\n",
    "\n",
    "data_path = pathlib.Path('/home/samer/Downloads/cancer_detector_data/Training-20230811T044623Z-001/Training/')\n",
    "\n",
    "data_path_test = pathlib.Path('/content/drive/MyDrive/archiveX3/Testing/')\n",
    "AUTOTUNE=tf.data.AUTOTUNE\n",
    "\n",
    "start = time.time()\n",
    "dataset_path = tf.keras.utils.image_dataset_from_directory(        # Training dataset\n",
    "    data_path,\n",
    "    labels= 'inferred',\n",
    "    validation_split=0.2,\n",
    "    subset='training',\n",
    "    seed= 1,\n",
    "    batch_size=config.batch_size,\n",
    "    image_size=(299, 299),\n",
    "    color_mode=\"rgb\",\n",
    "    shuffle=True)#.cache().prefetch(buffer_size=AUTOTUNE)\n",
    "\n",
    "dataset_path_val = tf.keras.utils.image_dataset_from_directory(      #Validation dataset\n",
    "    data_path,\n",
    "    labels= 'inferred',\n",
    "    validation_split=0.2,\n",
    "    subset='validation',\n",
    "    seed= 2,\n",
    "    batch_size=config.batch_size,\n",
    "    image_size=(299, 299),\n",
    "    color_mode=\"rgb\",\n",
    "    shuffle=True)#.cache().prefetch(buffer_size=AUTOTUNE)\n",
    "\n",
    "# dataset_path_test = tf.keras.utils.image_dataset_from_directory(      # Testing dataset\n",
    "#     data_path_test,\n",
    "#     labels= 'inferred',\n",
    "#     seed= 3,\n",
    "#     batch_size=5,\n",
    "#     image_size=(299, 299),\n",
    "#     color_mode=\"rgb\",\n",
    "#     shuffle=True)#.cache().prefetch(buffer_size=AUTOTUNE)\n",
    "\n",
    "end = time.time()\n",
    "print(\"time elapsed = \", (end - start))\n"
   ]
  },
  {
   "cell_type": "code",
   "execution_count": null,
   "metadata": {},
   "outputs": [],
   "source": [
    "# catch and prefetch for shorter training time\n",
    "\n",
    "# AUTOTUNE=tf.data.AUTOTUNE\n",
    "# dataset_path = dataset_path.cache().prefetch(buffer_size=AUTOTUNE)\n",
    "# dataset_path_val = dataset_path_val.cache().prefetch(buffer_size=AUTOTUNE)"
   ]
  },
  {
   "cell_type": "code",
   "execution_count": 12,
   "metadata": {},
   "outputs": [],
   "source": [
    "# downloading the weights oft the base model\n",
    "\n",
    "base_model = tf.keras.applications.inception_v3.InceptionV3(\n",
    "    input_shape = (299, 299, 3),\n",
    "    include_top = False, \n",
    "    weights = \"imagenet\"                  \n",
    ")"
   ]
  },
  {
   "cell_type": "code",
   "execution_count": 13,
   "metadata": {},
   "outputs": [
    {
     "name": "stdout",
     "output_type": "stream",
     "text": [
      "WARNING:tensorflow:Compiled the loaded model, but the compiled metrics have yet to be built. `model.compile_metrics` will be empty until you train or evaluate the model.\n"
     ]
    }
   ],
   "source": [
    "#saving the downloaded base_model \n",
    "\n",
    "saving_path = pathlib.Path('/home/samer/Downloads/cancer_detector_data/Training-20230811T044623Z-001/SavedBaseModel.h5')\n",
    "\n",
    "base_model.save(saving_path)"
   ]
  },
  {
   "cell_type": "code",
   "execution_count": 15,
   "metadata": {},
   "outputs": [
    {
     "name": "stdout",
     "output_type": "stream",
     "text": [
      "WARNING:tensorflow:No training configuration found in the save file, so the model was *not* compiled. Compile it manually.\n",
      "Epoch 1/10\n"
     ]
    },
    {
     "name": "stderr",
     "output_type": "stream",
     "text": [
      "2023-08-11 22:22:47.568126: I tensorflow/core/common_runtime/executor.cc:1197] [/device:CPU:0] (DEBUG INFO) Executor start aborting (this does not indicate an error and you can ignore this message): INVALID_ARGUMENT: You must feed a value for placeholder tensor 'Placeholder/_4' with dtype int32 and shape [3277]\n",
      "\t [[{{node Placeholder/_4}}]]\n",
      "2023-08-11 22:22:47.568322: I tensorflow/core/common_runtime/executor.cc:1197] [/device:CPU:0] (DEBUG INFO) Executor start aborting (this does not indicate an error and you can ignore this message): INVALID_ARGUMENT: You must feed a value for placeholder tensor 'Placeholder/_0' with dtype string and shape [3277]\n",
      "\t [[{{node Placeholder/_0}}]]\n"
     ]
    },
    {
     "name": "stdout",
     "output_type": "stream",
     "text": [
      "656/656 [==============================] - ETA: 0s - loss: 0.2608 - accuracy: 0.8950"
     ]
    },
    {
     "name": "stderr",
     "output_type": "stream",
     "text": [
      "2023-08-11 22:24:24.017456: I tensorflow/core/common_runtime/executor.cc:1197] [/device:CPU:0] (DEBUG INFO) Executor start aborting (this does not indicate an error and you can ignore this message): INVALID_ARGUMENT: You must feed a value for placeholder tensor 'Placeholder/_4' with dtype int32 and shape [819]\n",
      "\t [[{{node Placeholder/_4}}]]\n",
      "2023-08-11 22:24:24.017710: I tensorflow/core/common_runtime/executor.cc:1197] [/device:CPU:0] (DEBUG INFO) Executor start aborting (this does not indicate an error and you can ignore this message): INVALID_ARGUMENT: You must feed a value for placeholder tensor 'Placeholder/_4' with dtype int32 and shape [819]\n",
      "\t [[{{node Placeholder/_4}}]]\n"
     ]
    },
    {
     "name": "stdout",
     "output_type": "stream",
     "text": [
      "656/656 [==============================] - 109s 166ms/step - loss: 0.2608 - accuracy: 0.8950 - val_loss: 0.1918 - val_accuracy: 0.9280\n",
      "Epoch 2/10\n",
      "656/656 [==============================] - 108s 165ms/step - loss: 0.1631 - accuracy: 0.9420 - val_loss: 0.1941 - val_accuracy: 0.9328\n",
      "Epoch 3/10\n",
      "656/656 [==============================] - 104s 159ms/step - loss: 0.1350 - accuracy: 0.9527 - val_loss: 0.1540 - val_accuracy: 0.9512\n",
      "Epoch 4/10\n",
      "656/656 [==============================] - 105s 160ms/step - loss: 0.1138 - accuracy: 0.9582 - val_loss: 0.1305 - val_accuracy: 0.9524\n",
      "Epoch 5/10\n",
      "656/656 [==============================] - 105s 159ms/step - loss: 0.1089 - accuracy: 0.9612 - val_loss: 0.1214 - val_accuracy: 0.9548\n",
      "Epoch 6/10\n",
      "656/656 [==============================] - 102s 155ms/step - loss: 0.0955 - accuracy: 0.9683 - val_loss: 0.1319 - val_accuracy: 0.9548\n",
      "Epoch 7/10\n",
      "656/656 [==============================] - 102s 156ms/step - loss: 0.0926 - accuracy: 0.9664 - val_loss: 0.1503 - val_accuracy: 0.9499\n",
      "Epoch 8/10\n",
      "656/656 [==============================] - 105s 159ms/step - loss: 0.0861 - accuracy: 0.9704 - val_loss: 0.1066 - val_accuracy: 0.9621\n",
      "Epoch 9/10\n",
      "656/656 [==============================] - 104s 158ms/step - loss: 0.0788 - accuracy: 0.9722 - val_loss: 0.1190 - val_accuracy: 0.9597\n",
      "Epoch 10/10\n",
      "656/656 [==============================] - 111s 170ms/step - loss: 0.0730 - accuracy: 0.9747 - val_loss: 0.1138 - val_accuracy: 0.9609\n",
      "Model: \"model_3\"\n",
      "_________________________________________________________________\n",
      " Layer (type)                Output Shape              Param #   \n",
      "=================================================================\n",
      " input_6 (InputLayer)        [(None, 299, 299, 3)]     0         \n",
      "                                                                 \n",
      " sequential_7 (Sequential)   (None, 299, 299, 3)       0         \n",
      "                                                                 \n",
      " sequential_6 (Sequential)   (None, 299, 299, 3)       0         \n",
      "                                                                 \n",
      " inception_v3 (Functional)   (None, 8, 8, 2048)        21802784  \n",
      "                                                                 \n",
      " global_average_pooling2d_3   (None, 2048)             0         \n",
      " (GlobalAveragePooling2D)                                        \n",
      "                                                                 \n",
      " dense_3 (Dense)             (None, 4)                 8196      \n",
      "                                                                 \n",
      "=================================================================\n",
      "Total params: 21,810,980\n",
      "Trainable params: 8,196\n",
      "Non-trainable params: 21,802,784\n",
      "_________________________________________________________________\n"
     ]
    }
   ],
   "source": [
    "#Model\n",
    "\n",
    "model_path = pathlib.Path('/home/samer/Downloads/cancer_detector_data/Training-20230811T044623Z-001/SavedBaseModel.h5')\n",
    "\n",
    "base_model = tf.keras.models.load_model(model_path)                 #Loading base_model\n",
    "\n",
    "base_model.trainable = False                                        # Setting the model as non-trainable\n",
    "\n",
    "rescaling = tf.keras.Sequential([                                        \n",
    "  tf.keras.layers.Rescaling(scale=1 / 127.5, offset=-1)             # Rescaling to (1, -1) range required for inceptionV3 model\n",
    "])\n",
    "augmentation = tf.keras.Sequential([                                # Applying augmentations o the images\n",
    "   tf.keras.layers.RandomFlip(\"horizontal\"),\n",
    "   tf.keras.layers.RandomRotation(0.1)\n",
    "])\n",
    "\n",
    "# def build_model(hp):\n",
    "\n",
    "inputs = tf.keras.Input(shape=(299, 299, 3))\n",
    "x = augmentation(inputs)\n",
    "x = rescaling(x)\n",
    "x = base_model(x, training=False)\n",
    "x = tf.keras.layers.GlobalAveragePooling2D()(x)\n",
    "outputs = tf.keras.layers.Dense(4, activation='softmax')(x)                   # \"softmax\" in the final layer for decision making\n",
    "model = tf.keras.Model(inputs, outputs)\n",
    "\n",
    "# learning_rate = hp.Float(\"lr\", min_value=1e-5, max_value=1e-3, sampling=\"log\")\n",
    "\n",
    "model.compile(\n",
    "    optimizer = tf.keras.optimizers.Adam(learning_rate = config.lr),        # compiling with low learning rate\n",
    "    loss=tf.losses.SparseCategoricalCrossentropy(),\n",
    "    metrics=['accuracy'],\n",
    "    run_eagerly = True)                                               \n",
    "  \n",
    "#  return model \n",
    "\n",
    "# build_model(keras_tuner.HyperParameters())\n",
    "\n",
    "# tuner = keras_tuner.RandomSearch(\n",
    "#     hypermodel=build_model,\n",
    "#     objective=\"val_accuracy\",\n",
    "#     max_trials=3,\n",
    "#     executions_per_trial=2,\n",
    "#     overwrite=True,\n",
    "#     directory=\"/content/drive/MyDrive/Transfer\",\n",
    "#     project_name=\"Tuner\",\n",
    "# )\n",
    "\n",
    "# tuner.search_space_summary()\n",
    "\n",
    "# tuner.search(dataset_path, epochs=5, validation_data = dataset_path_val)\n",
    "\n",
    "# tuner.results_summary()\n",
    "\n",
    "\n",
    "g = model.fit(                                                               # fitting the whole model for non-trainable base\n",
    "    dataset_path,\n",
    "    epochs=config.epochs,   \n",
    "    validation_data = dataset_path_val)\n",
    "    #verbose = 1)\n",
    "for item in g.history.items():\n",
    "    for j in range(config.epochs):\n",
    "        metrics = {\"train/train_loss\": item[1][j]}\n",
    "        wandb.log(metrics)\n",
    "\n",
    "\n",
    "# model.evaluate(dataset_path_test, batch_size=5, verbose=1)               # evaluating using the test dataset \n",
    "\n",
    "model.summary()\n",
    "\n",
    "# base_model.trainable = True                                           # switching the base_model to trainable\n",
    "\n",
    "# for layer in base_model.layers:                                       # Swtching all batchnormalization layer of the base_model to non-trainable to not lose weights\n",
    "#   if isinstance(layer, tf.keras.layers.BatchNormalization):\n",
    "#     layer.trainable = False\n",
    "\n",
    "# model.compile(\n",
    "#     optimizer = tf.keras.optimizers.Adam(learning_rate = 0.000001),    # compiling the model with a trainable base_model\n",
    "#     loss=tf.losses.SparseCategoricalCrossentropy(),\n",
    "#     metrics=['accuracy'],\n",
    "#     run_eagerly = True)\n",
    "\n",
    "# # model.fit(                                                            # fitting for another 10 epochs starting where the non-trainable ended\n",
    "#     dataset_path,\n",
    "#     epochs=30,         \n",
    "#     initial_epoch=15,                \n",
    "#     validation_data = dataset_path_val)\n",
    "    #verbose = 1)\n",
    "\n",
    "# model.evaluate(dataset_path_test, batch_size=5, verbose=1)\n",
    "\n",
    "# model.summary()\n",
    "\n",
    "# saving_path = pathlib.Path('/content/drive/MyDrive/archiveX3/SavedModelWithFT/')\n",
    "\n",
    "# tf.keras.models.save_model(model,                                     # saving the fully trained model\n",
    "#                            saving_path,\n",
    "#                            overwrite=True,\n",
    "#                            save_format='tf'\n",
    "#                            )"
   ]
  },
  {
   "cell_type": "code",
   "execution_count": null,
   "metadata": {},
   "outputs": [],
   "source": [
    "# for _ in range(5):\n",
    "#     # 🐝 initialise a wandb run\n",
    "#     wandb.init(\n",
    "#         project=\"cancer_detector\",\n",
    "#         config={\n",
    "#             \"epochs\": 10,\n",
    "#             \"batch_size\": 5,\n",
    "#             \"lr\": 1e-3\n",
    "#             })\n",
    "    \n",
    "    # Copy your config \n",
    "    # config = wandb.config\n",
    "\n",
    "\n",
    "    # Dataset_path\n",
    "    # Dataset_path_val\n",
    "    # model"
   ]
  }
 ],
 "metadata": {
  "kernelspec": {
   "display_name": "AI",
   "language": "python",
   "name": "python3"
  },
  "language_info": {
   "codemirror_mode": {
    "name": "ipython",
    "version": 3
   },
   "file_extension": ".py",
   "mimetype": "text/x-python",
   "name": "python",
   "nbconvert_exporter": "python",
   "pygments_lexer": "ipython3",
   "version": "3.10.12"
  },
  "orig_nbformat": 4
 },
 "nbformat": 4,
 "nbformat_minor": 2
}
