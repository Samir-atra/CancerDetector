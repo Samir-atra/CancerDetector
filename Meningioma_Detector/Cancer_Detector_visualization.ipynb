{
  "cells": [
    {
      "cell_type": "markdown",
      "metadata": {
        "colab_type": "text",
        "id": "view-in-github"
      },
      "source": [
        "<a href=\\\"https://colab.research.google.com/github/Samir-atra/CancerDetector/blob/main/Meningioma_Detector/Cancer_Detector_visualization.ipynb\\\" target=\\\"_parent\\\"><img src=\\\"https://colab.research.google.com/assets/colab-badge.svg\\\" alt=\\\"Open In Colab\\\"/></a>"
      ]
    },
    {
      "cell_type": "code",
      "execution_count": 10,
      "metadata": {
        "colab": {
          "base_uri": "https://localhost:8080/"
        },
        "id": "0mBch561hZqR",
        "outputId": "b927d619-ac1f-4e40-f621-c03bbd36d655"
      },
      "outputs": [
        {
          "name": "stderr",
          "output_type": "stream",
          "text": [
            "\\u001b[34m\\u001b[1mwandb\\u001b[0m: \\u001b[33mWARNING\\u001b[0m Calling wandb.login() after wandb.init() has no effect.\\n"
          ]
        },
        {
          "data": {
            "text/plain": [
              "True"
            ]
          },
          "execution_count": 10,
          "metadata": {},
          "output_type": "execute_result"
        }
      ],
      "source": [
        "# 1. Imports and Setup\n",
        "# --------------------\n",
        "# This cell installs and imports the necessary libraries.\n",
        "# It also logs into Weights & Biases (wandb) for experiment tracking.\n",
        "\n",
        "!pip install keras_tuner -q\n",
        "!pip install wandb -qU\n",
        "\n",
        "import tensorflow as tf\n",
        "import keras_tuner\n",
        "import numpy as np\n",
        "import os\n",
        "import pathlib\n",
        "import matplotlib.pyplot as plt\n",
        "import datetime\n",
        "import tensorboard\n",
        "import IPython\n",
        "import sklearn\n",
        "import cv2\n",
        "import sys\n",
        "import time\n",
        "import wandb\n",
        "from wandb.keras import WandbMetricsLogger\n",
        "\n",
        "# Log in to Weights & Biases to track experiments.\n",
        "wandb.login()"
      ]
    },
    {
      "cell_type": "code",
      "execution_count": 11,
      "metadata": {
        "colab": {
          "base_uri": "https://localhost:8080/"
        },
        "id": "IORWH7CxhZqS",
        "outputId": "6fb7f3aa-ad61-408d-ed7b-45fa13cd73ae"
      },
      "outputs": [
        {
          "name": "stdout",
          "output_type": "stream",
          "text": [
            "Drive already mounted at /content/drive; to attempt to forcibly remount, call drive.mount(\\\"/content/drive\\\", force_remount=True).\\n"
          ]
        }
      ],
      "source": [
        "# 2. Mount Google Drive\n",
        "# ---------------------\n",
        "# Mount Google Drive to access the dataset, which is stored there.\n",
        "# This is necessary when running the notebook in Google Colab.\n",
        "\n",
        "from google.colab import drive\n",
        "drive.mount('/content/drive')"
      ]
    },
    {
      "cell_type": "code",
      "execution_count": 12,
      "metadata": {
        "colab": {
          "base_uri": "https://localhost:8080/",
          "height": 272,
          "referenced_widgets": [
            "e839bd8144b346699b9931fe22441e20",
            "7e12b79ed268481caa35bacdb37381b3",
            "456b42829bad4654a9b426376967a664",
            "91401b8031ff40a2802537d2c1a3189c",
            "822f2a26319b40cd89dd014094ade6bd",
            "eac267bf465e4af38c00452c235c5c84",
            "756b50c1db6d43f68989ba8b8dc67a5f",
            "6250ecd2ace64c5db0221cbe5f2551bc"
          ]
        },
        "id": "tiJJenBvhZqS",
        "outputId": "1e674368-6c63-4f87-f38c-52646074c5cb"
      },
      "outputs": [
        {
          "data": {
            "text/html": [
              "Finishing last run (ID:a9wmvqdo) before initializing another..."
            ],
            "text/plain": [
              "<IPython.core.display.HTML object>"
            ]
          },
          "metadata": {},
          "output_type": "display_data"
        },
        {
          "data": {
            "text/html": [
              "Waiting for W&B process to finish... <strong style=\\\"color:green\\\">(success).</strong>"
            ],
            "text/plain": [
              "<IPython.core.display.HTML object>"
            ]
          },
          "metadata": {},
          "output_type": "display_data"
        },
        {
          "data": {
            "text/html": [
              " View run <strong style=\\\"color:#cdcd00\\\">devoted-music-50</strong> at: <a href='https://wandb.ai/samiratra95/cancer_detector/runs/a9wmvqdo' target=\\\"_blank\\\">https://wandb.ai/samiratra95/cancer_detector/runs/a9wmvqdo</a><br/>Synced 5 W&B file(s), 0 media file(s), 0 artifact file(s) and 0 other file(s)"
            ],
            "text/plain": [
              "<IPython.core.display.HTML object>"
            ]
          },
          "metadata": {},
          "output_type": "display_data"
        },
        {
          "data": {
            "text/html": [
              "Find logs at: <code>./wandb/run-20230819_125346-a9wmvqdo/logs</code>"
            ],
            "text/plain": [
              "<IPython.core.display.HTML object>"
            ]
          },
          "metadata": {},
          "output_type": "display_data"
        },
        {
          "data": {
            "text/html": [
              "Successfully finished last run (ID:a9wmvqdo). Initializing new run:<br/>"
            ],
            "text/plain": [
              "<IPython.core.display.HTML object>"
            ]
          },
          "metadata": {},
          "output_type": "display_data"
        },
        {
          "data": {
            "application/vnd.jupyter.widget-view+json": {
              "model_id": "e839bd8144b346699b9931fe22441e20",
              "version_major": 2,
              "version_minor": 0
            },
            "text/plain": [
              "VBox(children=(Label(value='Waiting for wandb.init()...\\\\r'), FloatProgress(value=0.01666898693335194, max=1.0)…"
            ]
          },
          "metadata": {},
          "output_type": "display_data"
        },
        {
          "data": {
            "text/html": [
              "Tracking run with wandb version 0.15.8"
            ],
            "text/plain": [
              "<IPython.core.display.HTML object>"
            ]
          },
          "metadata": {},
          "output_type": "display_data"
        },
        {
          "data": {
            "text/html": [
              "Run data is saved locally in <code>/content/wandb/run-20230819_135328-7uahkl91</code>"
            ],
            "text/plain": [
              "<IPython.core.display.HTML object>"
            ]
          },
          "metadata": {},
          "output_type": "display_data"
        },
        {
          "data": {
            "text/html": [
              "Syncing run <strong><a href='https://wandb.ai/samiratra95/cancer_detector/runs/7uahkl91' target=\\\"_blank\\\">legendary-blaze-51</a></strong> to <a href='https://wandb.ai/samiratra95/cancer_detector' target=\\\"_blank\\\">Weights & Biases</a> (<a href='https://wandb.me/run' target=\\\"_blank\\\">docs</a>)<br/>"
            ],
            "text/plain": [
              "<IPython.core.display.HTML object>"
            ]
          },
          "metadata": {},
          "output_type": "display_data"
        },
        {
          "data": {
            "text/html": [
              " View project at <a href='https://wandb.ai/samiratra95/cancer_detector' target=\\\"_blank\\\">https://wandb.ai/samiratra95/cancer_detector</a>"
            ],
            "text/plain": [
              "<IPython.core.display.HTML object>"
            ]
          },
          "metadata": {},
          "output_type": "display_data"
        },
        {
          "data": {
            "text/html": [
              " View run at <a href='https://wandb.ai/samiratra95/cancer_detector/runs/7uahkl91' target=\\\"_blank\\\">https://wandb.ai/samiratra95/cancer_detector/runs/7uahkl91</a>"
            ],
            "text/plain": [
              "<IPython.core.display.HTML object>"
            ]
          },
          "metadata": {},
          "output_type": "display_data"
        }
      ],
      "source": [
        "# 3. Initialize Weights & Biases\n",
        "# ------------------------------\n",
        "# Initialize a new wandb run to log metrics for this experiment.\n",
        "\n",
        "wandb.init(\n",
        "    project=\"cancer_detector\",\n",
        "    config={\n",
        "        \"epochs\": 10,\n",
        "        \"batch_size\": 5,\n",
        "        \"lr\": 0.0005670323757088328\n",
        "    })\n",
        "\n",
        "# Create a config object for easy access to hyperparameters.\n",
        "config = wandb.config"
      ]
    },
    {
      "cell_type": "code",
      "execution_count": 13,
      "metadata": {
        "colab": {
          "base_uri": "https://localhost:8080/"
        },
        "id": "Z38At6pzhZqT",
        "outputId": "320b96ff-ee0b-4f6b-be14-b30e0f13e09e"
      },
      "outputs": [
        {
          "name": "stdout",
          "output_type": "stream",
          "text": [
            "Found 4096 files belonging to 2 classes.\\n",
            "Using 3277 files for training.\\n",
            "Found 4096 files belonging to 2 classes.\\n",
            "Using 819 files for validation.\\n",
            "time elapsed =  3.7418885231018066\\n"
          ]
        }
      ],
      "source": [
        "# 4. Dataset Loading\n",
        "# ------------------\n",
        "# Load the training and validation datasets from Google Drive.\n",
        "\n",
        "data_path = pathlib.Path('/content/drive/MyDrive/archiveX3/Training/')\n",
        "data_path_test = pathlib.Path('/content/drive/MyDrive/archiveX3/Testing/')\n",
        "AUTOTUNE = tf.data.AUTOTUNE\n",
        "\n",
        "start = time.time()\n",
        "dataset_path, dataset_path_val = tf.keras.utils.image_dataset_from_directory(\n",
        "    data_path,\n",
        "    labels='inferred',\n",
        "    validation_split=0.2,\n",
        "    subset='both',\n",
        "    seed=1,\n",
        "    batch_size=config.batch_size, # Use batch size from wandb config.\n",
        "    image_size=(299, 299),\n",
        "    color_mode=\"rgb\",\n",
        "    shuffle=True)\n",
        "\n",
        "# The testing dataset is commented out as it is not used in this notebook.\n",
        "# dataset_path_test = tf.keras.utils.image_dataset_from_directory(\n",
        "#     data_path_test,\n",
        "#     labels='inferred',\n",
        "#     seed=3,\n",
        "#     batch_size=5,\n",
        "#     image_size=(299, 299),\n",
        "#     color_mode=\"rgb\",\n",
        "#     shuffle=True)\n",
        "\n",
        "end = time.time()\n",
        "print(f\"Time elapsed for data loading: {end - start:.2f} seconds\")\n"
      ]
    },
    {
      "cell_type": "code",
      "execution_count": 14,
      "metadata": {
        "id": "9_vIliwShZqT"
      },
      "outputs": [],
      "source": [
        "# 5. Performance Optimization (Commented Out)\n",
        "# ------------------------------------------\n",
        "# Caching and prefetching can be enabled for faster training.\n",
        "\n",
        "# AUTOTUNE = tf.data.AUTOTUNE\n",
        "# dataset_path = dataset_path.cache().prefetch(buffer_size=AUTOTUNE)\n",
        "# dataset_path_val = dataset_path_val.cache().prefetch(buffer_size=AUTOTUNE)"
      ]
    },
    {
      "cell_type": "code",
      "execution_count": 15,
      "metadata": {
        "id": "SbhajQS1hZqT"
      },
      "outputs": [],
      "source": [
        "# 6. Load Base Model\n",
        "# ------------------\n",
        "# Download the InceptionV3 model, pre-trained on ImageNet, without its top classification layer.\n",
        "\n",
        "base_model = tf.keras.applications.inception_v3.InceptionV3(\n",
        "    input_shape=(299, 299, 3),\n",
        "    include_top=False,\n",
        "    weights=\"imagenet\")"
      ]
    },
    {
      "cell_type": "code",
      "execution_count": 16,
      "metadata": {
        "colab": {
          "base_uri": "https://localhost:8080/"
        },
        "id": "cR5wQEwyhZqU",
        "outputId": "1ba5c9d3-d8b1-4fe5-da04-4c5fbb8829e0"
      },
      "outputs": [
        {
          "name": "stderr",
          "output_type": "stream",
          "text": [
            "WARNING:tensorflow:Compiled the loaded model, but the compiled metrics have yet to be built. `model.compile_metrics` will be empty until you train or evaluate the model.\\n"
          ]
        }
      ],
      "source": [
        "# 7. Save Base Model\n",
        "# ------------------\n",
        "# Save the downloaded base model to Google Drive to avoid re-downloading.\n",
        "\n",
        "saving_path = pathlib.Path('/content/drive/MyDrive/archiveX3/Training/SavedBaseModel.h5')\n",
        "base_model.save(saving_path)"
      ]
    },
    {
      "cell_type": "code",
      "execution_count": null,
      "metadata": {
        "colab": {
          "base_uri": "https://localhost:8080/"
        },
        "id": "JrEnUtW4hZqU",
        "outputId": "13efc77e-86d6-4784-a8dd-8aa73588bae6"
      },
      "outputs": [
        {
          "name": "stderr",
          "output_type": "stream",
          "text": [
            "WARNING:tensorflow:No training configuration found in the save file, so the model was *not* compiled. Compile it manually.\\n"
          ]
        },
        {
          "name": "stdout",
          "output_type": "stream",
          "text": [
            "Epoch 1/10\\n",
            "656/656 [==============================] - 271s 412ms/step - loss: 0.2462 - accuracy: 0.9017 - val_loss: 0.1821 - val_accuracy: 0.9341\\n",
            "Epoch 2/10\\n",
            "656/656 [==============================] - 267s 407ms/step - loss: 0.1612 - accuracy: 0.9408 - val_loss: 0.2477 - val_accuracy: 0.9182\\n",
            "Epoch 3/10\\n",
            "656/656 [==============================] - 267s 407ms/step - loss: 0.1295 - accuracy: 0.9530 - val_loss: 0.1454 - val_accuracy: 0.9475\\n",
            "Epoch 4/10\\n",
            "656/656 [==============================] - 268s 409ms/step - loss: 0.1157 - accuracy: 0.9594 - val_loss: 0.1346 - val_accuracy: 0.9487\\n",
            "Epoch 5/10\\n",
            "656/656 [==============================] - 268s 409ms/step - loss: 0.1105 - accuracy: 0.9643 - val_loss: 0.1279 - val_accuracy: 0.9487\\n",
            "Epoch 6/10\\n",
            "656/656 [==============================] - 267s 406ms/step - loss: 0.0972 - accuracy: 0.9646 - val_loss: 0.1234 - val_accuracy: 0.9536\\n",
            "Epoch 7/10\\n",
            "127/656 [====>.........................] - ETA: 3:07 - loss: 0.0996 - accuracy: 0.9654"
          ]
        }
      ],
      "source": [
        "# 8. Model Definition and Training with WandB\n",
        "# -------------------------------------------\n",
        "# This cell defines the full model, compiles it, and trains it while logging metrics to WandB.\n",
        "\n",
        "model_path = pathlib.Path('/content/drive/MyDrive/archiveX3/Training/SavedBaseModel.h5')\n",
        "base_model = tf.keras.models.load_model(model_path)\n",
        "base_model.trainable = False # Freeze the base model for feature extraction.\n",
        "\n",
        "# Define preprocessing and augmentation layers.\n",
        "rescaling = tf.keras.Sequential([\n",
        "    tf.keras.layers.Rescaling(scale=1 / 127.5, offset=-1) # Rescale to [-1, 1] for InceptionV3.\n",
        "])\n",
        "augmentation = tf.keras.Sequential([\n",
        "    tf.keras.layers.RandomFlip(\"horizontal\"),\n",
        "    tf.keras.layers.RandomRotation(0.1)\n",
        "])\n",
        "\n",
        "# Build the final model.\n",
        "inputs = tf.keras.Input(shape=(299, 299, 3))\n",
        "x = augmentation(inputs)\n",
        "x = rescaling(x)\n",
        "x = base_model(x, training=False)\n",
        "x = tf.keras.layers.GlobalAveragePooling2D()(x)\n",
        "outputs = tf.keras.layers.Dense(4, activation='softmax')(x)\n",
        "model = tf.keras.Model(inputs, outputs)\n",
        "\n",
        "# Compile the model with the learning rate from the wandb config.\n",
        "model.compile(\n",
        "    optimizer=tf.keras.optimizers.Adam(learning_rate=config.lr),\n",
        "    loss=tf.losses.SparseCategoricalCrossentropy(),\n",
        "    metrics=['accuracy'],\n",
        "    run_eagerly=True)\n",
        "\n",
        "# Train the model and log metrics to WandB.\n",
        "model.fit(\n",
        "    dataset_path,\n",
        "    epochs=config.epochs,\n",
        "    validation_data=dataset_path_val,\n",
        "    callbacks=[WandbMetricsLogger(log_freq=10)]) # Use WandbMetricsLogger callback.\n",
        "\n",
        "model.summary()\n",
        "\n",
        "# Finish the wandb run.\n",
        "wandb.finish()\n",
        "\n",
        "# The following sections for fine-tuning are commented out.\n",
        "# Fine-tuning would involve unfreezing the base model and training with a lower learning rate.\n"
      ]
    },
    {
      "cell_type": "code",
      "execution_count": null,
      "metadata": {
        "id": "44fd78XhhZqV"
      },
      "outputs": [],
      "source": [
        "# This cell appears to be a scratchpad for trying out different wandb configurations.\n",
        "\n",
        "# for _ in range(5):\n",
        "#     # 🐝 initialise a wandb run\n",
        "#     wandb.init(\n",
        "#         project=\"cancer_detector\",\n",
        "#         config={\n",
        "#             \"epochs\": 10,\n",
        "#             \"batch_size\": 5,\n",
        "#             \"lr\": 1e-3\n",
        "#             })\n",
        "#\n",
        "#     # Copy your config\n",
        "#     config = wandb.config\n",
        "#\n",
        "#     # Dataset_path\n",
        "#     # Dataset_path_val\n",
        "#     # model"
      ]
    }
  ],
  "metadata": {
    "accelerator": "GPU",
    "colab": {
      "gpuType": "T4",
      "include_colab_link": true,
      "provenance": []
    },
    "kernelspec": {
      "display_name": "Python 3",
      "name": "python3"
    },
    "language_info": {
      "codemirror_mode": {
        "name": "ipython",
        "version": 3
      },
      "file_extension": ".py",
      "mimetype": "text/x-python",
      "name": "python",
      "nbconvert_exporter": "python",
      "pygments_lexer": "ipython3",
      "version": "3.10.12"
    },
    "orig_nbformat": 4,
    "widgets": {
      "application/vnd.jupyter.widget-state+json": {
        "456b42829bad4654a9b426376967a664": {
          "model_module": "@jupyter-widgets/controls",
          "model_module_version": "1.5.0",
          "model_name": "FloatProgressModel",
          "state": {
            "_dom_classes": [],
            "_model_module": "@jupyter-widgets/controls",
            "_model_module_version": "1.5.0",
            "_model_name": "FloatProgressModel",
            "_view_count": null,
            "_view_module": "@jupyter-widgets/controls",
            "_view_module_version": "1.5.0",
            "_view_name": "ProgressView",
            "bar_style": "",
            "description": "",
            "description_tooltip": null,
            "layout": "IPY_MODEL_756b50c1db6d43f68989ba8b8dc67a5f",
            "max": 1,
            "min": 0,
            "orientation": "horizontal",
            "style": "IPY_MODEL_6250ecd2ace64c5db0221cbe5f2551bc",
            "value": 1
          }
        },
        "6250ecd2ace64c5db0221cbe5f2551bc": {
          "model_module": "@jupyter-widgets/controls",
          "model_module_version": "1.5.0",
          "model_name": "ProgressStyleModel",
          "state": {
            "_model_module": "@jupyter-widgets/controls",
            "_model_module_version": "1.5.0",
            "_model_name": "ProgressStyleModel",
            "_view_count": null,
            "_view_module": "@jupyter-widgets/base",
            "_view_module_version": "1.2.0",
            "_view_name": "StyleView",
            "bar_color": null,
            "description_width": ""
          }
        },
        "756b50c1db6d43f68989ba8b8dc67a5f": {
          "model_module": "@jupyter-widgets/base",
          "model_module_version": "1.2.0",
          "model_name": "LayoutModel",
          "state": {
            "_model_module": "@jupyter-widgets/base",
            "_model_module_version": "1.2.0",
            "_model_name": "LayoutModel",
            "_view_count": null,
            "_view_module": "@jupyter-widgets/base",
            "_view_module_version": "1.2.0",
            "_view_name": "LayoutView",
            "align_content": null,
            "align_items": null,
            "align_self": null,
            "border": null,
            "bottom": null,
            "display": null,
            "flex": null,
            "flex_flow": null,
            "grid_area": null,
            "grid_auto_columns": null,
            "grid_auto_flow": null,
            "grid_auto_rows": null,
            "grid_column": null,
            "grid_gap": null,
            "grid_row": null,
            "grid_template_areas": null,
            "grid_template_columns": null,
            "grid_template_rows": null,
            "height": null,
            "justify_content": null,
            "justify_items": null,
            "left": null,
            "margin": null,
            "max_height": null,
            "max_width": null,
            "min_height": null,
            "min_width": null,
            "object_fit": null,
            "object_position": null,
            "order": null,
            "overflow": null,
            "overflow_x": null,
            "overflow_y": null,
            "padding": null,
            "right": null,
            "top": null,
            "visibility": null,
            "width": null
          }
        },
        "7e12b79ed268481caa35bacdb37381b3": {
          "model_module": "@jupyter-widgets/controls",
          "model_module_version": "1.5.0",
          "model_name": "LabelModel",
          "state": {
            "_dom_classes": [],
            "_model_module": "@jupyter-widgets/controls",
            "_model_module_version": "1.5.0",
            "_model_name": "LabelModel",
            "_view_count": null,
            "_view_module": "@jupyter-widgets/controls",
            "_view_module_version": "1.5.0",
            "_view_name": "LabelView",
            "description": "",
            "description_tooltip": null,
            "layout": "IPY_MODEL_822f2a26319b40cd89dd014094ade6bd",
            "placeholder": "​",
            "style": "IPY_MODEL_eac267bf465e4af38c00452c235c5c84",
            "value": "Waiting for wandb.init()...\\\\r"
          }
        },
        "822f2a26319b40cd89dd014094ade6bd": {
          "model_module": "@jupyter-widgets/base",
          "model_module_version": "1.2.0",
          "model_name": "LayoutModel",
          "state": {
            "_model_module": "@jupyter-widgets/base",
            "_model_module_version": "1.2.0",
            "_model_name": "LayoutModel",
            "_view_count": null,
            "_view_module": "@jupyter-widgets/base",
            "_view_module_version": "1.2.0",
            "_view_name": "LayoutView",
            "align_content": null,
            "align_items": null,
            "align_self": null,
            "border": null,
            "bottom": null,
            "display": null,
            "flex": null,
            "flex_flow": null,
            "grid_area": null,
            "grid_auto_columns": null,
            "grid_auto_flow": null,
            "grid_auto_rows": null,
            "grid_column": null,
            "grid_gap": null,
            "grid_row": null,
            "grid_template_areas": null,
            "grid_template_columns": null,
            "grid_template_rows": null,
            "height": null,
            "justify_content": null,
            "justify_items": null,
            "left": null,
            "margin": null,
            "max_height": null,
            "max_width": null,
            "min_height": null,
            "min_width": null,
            "object_fit": null,
            "object_position": null,
            "order": null,
            "overflow": null,
            "overflow_x": null,
            "overflow_y": null,
            "padding": null,
            "right": null,
            "top": null,
            "visibility": null,
            "width": null
          }
        },
        "91401b8031ff40a2802537d2c1a3189c": {
          "model_module": "@jupyter-widgets/base",
          "model_module_version": "1.2.0",
          "model_name": "LayoutModel",
          "state": {
            "_model_module": "@jupyter-widgets/base",
            "_model_module_version": "1.2.0",
            "_model_name": "LayoutModel",
            "_view_count": null,
            "_view_module": "@jupyter-widgets/base",
            "_view_module_version": "1.2.0",
            "_view_name": "LayoutView",
            "align_content": null,
            "align_items": null,
            "align_self": null,
            "border": null,
            "bottom": null,
            "display": null,
            "flex": null,
            "flex_flow": null,
            "grid_area": null,
            "grid_auto_columns": null,
            "grid_auto_flow": null,
            "grid_auto_rows": null,
            "grid_column": null,
            "grid_gap": null,
            "grid_row": null,
            "grid_template_areas": null,
            "grid_template_columns": null,
            "grid_template_rows": null,
            "height": null,
            "justify_content": null,
            "justify_items": null,
            "left": null,
            "margin": null,
            "max_height": null,
            "max_width": null,
            "min_height": null,
            "min_width": null,
            "object_fit": null,
            "object_position": null,
            "order": null,
            "overflow": null,
            "overflow_x": null,
            "overflow_y": null,
            "padding": null,
            "right": null,
            "top": null,
            "visibility": null,
            "width": null
          }
        },
        "e839bd8144b346699b9931fe22441e20": {
          "model_module": "@jupyter-widgets/controls",
          "model_module_version": "1.5.0",
          "model_name": "VBoxModel",
          "state": {
            "_dom_classes": [],
            "_model_module": "@jupyter-widgets/controls",
            "_model_module_version": "1.5.0",
            "_model_name": "VBoxModel",
            "_view_count": null,
            "_view_module": "@jupyter-widgets/controls",
            "_view_module_version": "1.5.0",
            "_view_name": "VBoxView",
            "box_style": "",
            "children": [
              "IPY_MODEL_7e12b79ed268481caa35bacdb37381b3",
              "IPY_MODEL_456b42829bad4654a9b426376967a664"
            ],
            "layout": "IPY_MODEL_91401b8031ff40a2802537d2c1a3189c"
          }
        },
        "eac267bf465e4af38c00452c235c5c84": {
          "model_module": "@jupyter-widgets/controls",
          "model_module_version": "1.5.0",
          "model_name": "DescriptionStyleModel",
          "state": {
            "_model_module": "@jupyter-widgets/controls",
            "_model_module_version": "1.5.0",
            "_model_name": "DescriptionStyleModel",
            "_view_count": null,
            "_view_module": "@jupyter-widgets/base",
            "_view_module_version": "1.2.0",
            "_view_name": "StyleView",
            "description_width": ""
          }
        }
      }
    }
  },
  "nbformat": 4,
  "nbformat_minor": 0
}
