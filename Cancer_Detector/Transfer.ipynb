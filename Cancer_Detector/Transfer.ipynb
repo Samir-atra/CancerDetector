{
  "cells": [
    {
      "cell_type": "code",
      "execution_count": null,
      "metadata": {
        "id": "PAFBOomjSbe8"
      },
      "outputs": [],
      "source": [
        "# Imports\n",
        "\n",
        "import tensorflow as tf\n",
        "import tensorflow_datasets as tfds\n",
        "import numpy as np\n",
        "import os\n",
        "import PIL.Image\n",
        "from PIL import ImageOps\n",
        "import PIL\n",
        "import pathlib\n",
        "import matplotlib.pyplot as plt\n",
        "import datetime\n",
        "import tensorboard\n",
        "import IPython\n",
        "import sklearn\n",
        "import cv2\n",
        "import subprocess\n",
        "import sys"
      ]
    },
    {
      "cell_type": "code",
      "execution_count": null,
      "metadata": {
        "colab": {
          "base_uri": "https://localhost:8080/"
        },
        "id": "QMQQCq3WSggX",
        "outputId": "dc5b9e64-3c00-4f77-9d0f-c38a2491efab"
      },
      "outputs": [],
      "source": [
        "# Mounting google drive for training in google co lab\n",
        "\n",
        "from google.colab import drive             \n",
        "drive.mount('/content/drive')"
      ]
    },
    {
      "cell_type": "code",
      "execution_count": null,
      "metadata": {
        "colab": {
          "base_uri": "https://localhost:8080/"
        },
        "id": "S9RolTK1SbfB",
        "outputId": "81460f81-f96e-4f42-ad53-dc4e4d8cb5a6"
      },
      "outputs": [],
      "source": [
        "# Dataset loading\n",
        "\n",
        "data_path = pathlib.Path('/content/drive/MyDrive/archiveX3/Training/')\n",
        "\n",
        "data_path_test = pathlib.Path('/content/drive/MyDrive/archiveX3/Testing/')\n",
        "\n",
        "\n",
        "dataset_path = tf.keras.utils.image_dataset_from_directory(        # Training dataset\n",
        "    data_path,\n",
        "    labels= 'inferred',\n",
        "    validation_split=0.2,\n",
        "    subset='training',\n",
        "    seed= 1,\n",
        "    batch_size=5,\n",
        "    image_size=(180, 180),\n",
        "    color_mode=\"rgb\",\n",
        "    shuffle=True)\n",
        "\n",
        "dataset_path_val = tf.keras.utils.image_dataset_from_directory(      #Validation dataset\n",
        "    data_path,\n",
        "    labels= 'inferred',\n",
        "    validation_split=0.2,\n",
        "    subset='validation',\n",
        "    seed= 2,\n",
        "    batch_size=5,\n",
        "    image_size=(180, 180),\n",
        "    color_mode=\"rgb\",\n",
        "    shuffle=True)\n",
        "\n",
        "dataset_path_test = tf.keras.utils.image_dataset_from_directory(      # Testing dataset\n",
        "    data_path_test,\n",
        "    labels= 'inferred',\n",
        "    seed= 3,\n",
        "    batch_size=5,\n",
        "    image_size=(180, 180),\n",
        "    color_mode=\"rgb\",\n",
        "    shuffle=True)\n"
      ]
    },
    {
      "cell_type": "code",
      "execution_count": null,
      "metadata": {
        "id": "7A2g8M1BSbfF"
      },
      "outputs": [],
      "source": [
        "# catch and prefetch for shorter training time\n",
        "\n",
        "AUTOTUNE=tf.data.AUTOTUNE\n",
        "dataset_path = dataset_path.cache().prefetch(buffer_size=AUTOTUNE)\n",
        "dataset_path_val = dataset_path_val.cache().prefetch(buffer_size=AUTOTUNE)"
      ]
    },
    {
      "cell_type": "code",
      "execution_count": null,
      "metadata": {
        "id": "qh3RFKFWSbfG"
      },
      "outputs": [],
      "source": [
        "# downloading the weights oft the base model\n",
        "\n",
        "base_model = tf.keras.applications.inception_v3.InceptionV3(\n",
        "    input_shape = (180, 180, 3),\n",
        "    include_top = False, \n",
        "    weights = \"imagenet\"                  \n",
        ")"
      ]
    },
    {
      "cell_type": "code",
      "execution_count": null,
      "metadata": {
        "colab": {
          "base_uri": "https://localhost:8080/"
        },
        "id": "D7TQ9YrgSbfH",
        "outputId": "784098bf-be64-4aea-b76f-7b6cb0dc94ee"
      },
      "outputs": [],
      "source": [
        "#saving the downloaded base_model \n",
        "\n",
        "saving_path = pathlib.Path('/content/drive/MyDrive/archiveX3/SavedBaseModel.h5')\n",
        "\n",
        "base_model.save(saving_path)"
      ]
    },
    {
      "cell_type": "code",
      "execution_count": null,
      "metadata": {
        "colab": {
          "base_uri": "https://localhost:8080/"
        },
        "id": "lN_3As-oSbfJ",
        "outputId": "08edf8dc-e87f-4dee-a60f-b403599838f1"
      },
      "outputs": [],
      "source": [
        "#Model\n",
        "\n",
        "model_path = pathlib.Path('/content/drive/MyDrive/archiveX3/SavedBaseModel.h5')\n",
        "\n",
        "base_model = tf.keras.models.load_model(model_path)                 #Loading base_model\n",
        "\n",
        "base_model.trainable = False                                        # Setting the model as non-trainable\n",
        "\n",
        "rescaling = tf.keras.Sequential([                                        \n",
        "  tf.keras.layers.Rescaling(scale=1 / 127.5, offset=-1)             # Rescaling to (1, -1) range required for inceptionV3 model\n",
        "])\n",
        "augmentation = tf.keras.Sequential([                                # Applying augmentations o the images\n",
        "   tf.keras.layers.RandomFlip(\"horizontal_and_vertical\"),\n",
        "   tf.keras.layers.RandomRotation(0.2)\n",
        "])\n",
        "\n",
        "inputs = tf.keras.Input(shape=(180, 180, 3))\n",
        "x = augmentation(inputs)\n",
        "x = rescaling(x)\n",
        "x = base_model(x)\n",
        "x = tf.keras.layers.GlobalAveragePooling2D()(x)\n",
        "x = tf.keras.layers.Dense(1024, activation='ELU', kernel_regularizer=tf.keras.regularizers.l2(0.001))(x)     # Neurons numbers and activation functions based on testing and choosing the one with best results\n",
        "x = tf.keras.layers.Dropout(0.2)(x)\n",
        "x = tf.keras.layers.Dense(512, activation='ELU', kernel_regularizer=tf.keras.regularizers.l2(0.001))(x)     # Regularizing and Dropout to avoid overfitting\n",
        "x = tf.keras.layers.Dropout(0.2)(x)\n",
        "x = tf.keras.layers.Dense(512, activation='ELU', kernel_regularizer=tf.keras.regularizers.l2(0.001))(x)\n",
        "x = tf.keras.layers.Dropout(0.2)(x)\n",
        "x = tf.keras.layers.Dense(256, activation='ELU', kernel_regularizer=tf.keras.regularizers.l2(0.001))(x)\n",
        "x = tf.keras.layers.Dropout(0.2)(x)\n",
        "outputs = tf.keras.layers.Dense(4, activation='softmax')(x)                   # \"softmax\" in the final layer for decision making\n",
        "model = tf.keras.Model(inputs, outputs)\n",
        "\n",
        "\n",
        "model.compile(\n",
        "    optimizer = tf.keras.optimizers.Adam(learning_rate = 0.0001),        # compiling with low learning rate\n",
        "    loss=tf.losses.SparseCategoricalCrossentropy(),\n",
        "    metrics=['accuracy'],\n",
        "    run_eagerly = True)                                               \n",
        "\n",
        "model.fit(                                                               # fitting the whole model for non-trainable base\n",
        "    dataset_path,\n",
        "    epochs=15,   \n",
        "    validation_data = dataset_path_val,\n",
        "    verbose = 1)\n",
        "\n",
        "\n",
        "model.evaluate(dataset_path_test, batch_size=5, verbose=1)               # evaluating using the test dataset \n",
        "\n",
        "model.summary()\n",
        "\n",
        "base_model.trainable = True                                           # switching the base_model to trainable\n",
        "\n",
        "for layer in base_model.layers:                                       # Swtching all batchnormalization layer of the base_model to non-trainable to not lose weights\n",
        "  if isinstance(layer, tf.keras.layers.BatchNormalization):\n",
        "    layer.trainable = False\n",
        "\n",
        "model.compile(\n",
        "    optimizer = tf.keras.optimizers.Adam(learning_rate = 0.00001),    # compiling the model with a trainable base_model\n",
        "    loss=tf.losses.SparseCategoricalCrossentropy(),\n",
        "    metrics=['accuracy'],\n",
        "    run_eagerly = True)\n",
        "\n",
        "model.fit(                                                            # fitting for another 10 epochs starting where the non-trainable ended\n",
        "    dataset_path,\n",
        "    epochs=30,         \n",
        "    initial_epoch=15,                \n",
        "    validation_data = dataset_path_val,\n",
        "    verbose = 1)\n",
        "\n",
        "model.evaluate(dataset_path_test, batch_size=5, verbose=1)\n",
        "\n",
        "model.summary()\n",
        "\n",
        "saving_path = pathlib.Path('/content/drive/MyDrive/archiveX3/SavedModelWithFT/')\n",
        "\n",
        "tf.keras.models.save_model(model,                                     # saving the fully trained model\n",
        "                           saving_path,\n",
        "                           overwrite=True,\n",
        "                           save_format='tf'\n",
        "                           )"
      ]
    },
    {
      "cell_type": "markdown",
      "metadata": {},
      "source": [
        "May find a sample trained model at:  https://drive.google.com/drive/folders/1MsQzyfIj4JxdUIpP_EftdTRvWjm0YY8A?usp=sharing"
      ]
    }
  ],
  "metadata": {
    "accelerator": "GPU",
    "colab": {
      "collapsed_sections": [],
      "name": "Transfer.ipynb",
      "provenance": []
    },
    "gpuClass": "standard",
    "kernelspec": {
      "display_name": "Python 3.9.7 ('base')",
      "language": "python",
      "name": "python3"
    },
    "language_info": {
      "codemirror_mode": {
        "name": "ipython",
        "version": 3
      },
      "file_extension": ".py",
      "mimetype": "text/x-python",
      "name": "python",
      "nbconvert_exporter": "python",
      "pygments_lexer": "ipython3",
      "version": "3.9.7"
    },
    "orig_nbformat": 4,
    "vscode": {
      "interpreter": {
        "hash": "d4de0671d8054c88a8842951ed8f6115b974e2e5b39cbc2553be5a6678282e63"
      }
    }
  },
  "nbformat": 4,
  "nbformat_minor": 0
}
