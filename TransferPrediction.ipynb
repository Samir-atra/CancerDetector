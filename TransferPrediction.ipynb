{
 "cells": [
  {
   "cell_type": "code",
   "execution_count": null,
   "metadata": {},
   "outputs": [],
   "source": [
    "# Imports\n",
    "\n",
    "import tensorflow as tf\n",
    "import tensorflow_datasets as tfds\n",
    "import numpy as np\n",
    "import os\n",
    "import PIL.Image\n",
    "from PIL import ImageOps\n",
    "import PIL\n",
    "import pathlib\n",
    "import matplotlib.pyplot as plt\n",
    "import datetime\n",
    "import tensorboard\n",
    "import IPython\n",
    "import sklearn\n",
    "import cv2\n",
    "import subprocess\n",
    "import sys"
   ]
  },
  {
   "cell_type": "code",
   "execution_count": 14,
   "metadata": {},
   "outputs": [],
   "source": [
    "data_path = pathlib.Path('/home/samer/Documents/Programming/AI50xIraq/Cancerdetection/sample/')\n",
    "\n",
    "dataset_path = tf.keras.utils.image_dataset_from_directory(\n",
    "    data_path,\n",
    "    labels= 'inferred',\n",
    "    seed= 1,\n",
    "    batch_size=1,\n",
    "    image_size=(180, 180),\n",
    "    color_mode=\"rgb\",\n",
    "    shuffle=False)\n",
    "\n",
    "loading_path = pathlib.Path('/home/samer/Documents/Programming/AI50xIraq/CancerDetectionX3/archiveX3/SavedModelWithFT1/')\n",
    "loaded_model = tf.keras.models.load_model(loading_path, compile=True)\n",
    "\n",
    "loaded_model.compile(\n",
    "    optimizer='adam',\n",
    "    loss=tf.losses.SparseCategoricalCrossentropy(from_logits= True),\n",
    "    metrics=['accuracy'])\n",
    "\n",
    "sample_list = []\n",
    "for sample,label in dataset_path:\n",
    "    sample_list.append(sample)\n",
    "    continue\n",
    "\n",
    "sample_list = np.array(sample_list)\n",
    "for sample in sample_list:\n",
    "    predictions = loaded_model.predict(sample)\n",
    "    pred = np.argmax(predictions, axis=1)\n",
    "    if pred[0] == 0:\n",
    "        print(\"glioma_tumor\")\n",
    "        plt.imshow(cv2.cvtColor(sample[0],cv2.COLOR_RGB2GRAY))\n",
    "        plt.show()\n",
    "    elif pred[0] == 1:\n",
    "        print(\"meningioma_tumor\")\n",
    "        plt.imshow(cv2.cvtColor(sample[0],cv2.COLOR_RGB2GRAY))\n",
    "        plt.show()\n",
    "    elif pred[0] == 2:\n",
    "        print(\"no_tumor\")\n",
    "        plt.imshow(cv2.cvtColor(sample[0],cv2.COLOR_RGB2GRAY))\n",
    "        plt.show()\n",
    "    else:\n",
    "        print(\"pituitary_tumor\")\n",
    "        plt.imshow(cv2.cvtColor(sample[0],cv2.COLOR_RGB2GRAY))\n",
    "        plt.show()\n"
   ]
  }
 ],
 "metadata": {
  "kernelspec": {
   "display_name": "Python 3.9.7 ('base')",
   "language": "python",
   "name": "python3"
  },
  "language_info": {
   "codemirror_mode": {
    "name": "ipython",
    "version": 3
   },
   "file_extension": ".py",
   "mimetype": "text/x-python",
   "name": "python",
   "nbconvert_exporter": "python",
   "pygments_lexer": "ipython3",
   "version": "3.9.7"
  },
  "orig_nbformat": 4,
  "vscode": {
   "interpreter": {
    "hash": "d4de0671d8054c88a8842951ed8f6115b974e2e5b39cbc2553be5a6678282e63"
   }
  }
 },
 "nbformat": 4,
 "nbformat_minor": 2
}
